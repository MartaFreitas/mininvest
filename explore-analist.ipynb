{
 "cells": [
  {
   "cell_type": "code",
   "execution_count": 2,
   "metadata": {
    "collapsed": true,
    "pycharm": {
     "is_executing": false
    }
   },
   "outputs": [
    {
     "name": "stderr",
     "text": [
      "/usr/local/lib/python3.7/site-packages/IPython/core/interactiveshell.py:3063: DtypeWarning: Columns (62) have mixed types.Specify dtype option on import or set low_memory=False.\n",
      "  interactivity=interactivity, compiler=compiler, result=result)\n"
     ],
     "output_type": "stream"
    }
   ],
   "source": [
    "import pandas as pd\n",
    "import numpy as np"
   ]
  },
  {
   "cell_type": "code",
   "execution_count": 3,
   "outputs": [
    {
     "name": "stderr",
     "text": [
      "/usr/local/lib/python3.7/site-packages/IPython/core/interactiveshell.py:3063: DtypeWarning: Columns (62) have mixed types.Specify dtype option on import or set low_memory=False.\n",
      "  interactivity=interactivity, compiler=compiler, result=result)\n"
     ],
     "output_type": "stream"
    }
   ],
   "source": [
    "dataset = pd.read_csv(\"Dataset-1.csv\");"
   ],
   "metadata": {
    "collapsed": false,
    "pycharm": {
     "name": "#%%\n",
     "is_executing": false
    }
   }
  },
  {
   "cell_type": "code",
   "execution_count": 4,
   "outputs": [
    {
     "data": {
      "text/plain": "   Unnamed: 0                                                 Id  Idade  \\\n0           0  $2b$10$.DCvvJ9WSDpqVP2xXjeSPe9yBilu2JVQh2nFTHN...     30   \n1           1  $2b$10$.DCvvJ9WSDpqVP2xXjeSPeR6I3TrUCl/MAePvQQ...     25   \n2           2  $2b$10$.DCvvJ9WSDpqVP2xXjeSPeR6I3TrUCl/MAePvQQ...     25   \n3           3  $2b$10$.DCvvJ9WSDpqVP2xXjeSPeR6I3TrUCl/MAePvQQ...     25   \n4           4  $2b$10$.DCvvJ9WSDpqVP2xXjeSPeR6I3TrUCl/MAePvQQ...     25   \n\n  EstadoCivil BillingCity  NivelConhecimentoAtual  ScoreNivelConhecimento  \\\n0           M     Aracruz                     1.0                     1.0   \n1           S    Teresina                     1.0                     1.0   \n2           S    Teresina                     1.0                     1.0   \n3           S    Teresina                     1.0                     1.0   \n4           S    Teresina                     1.0                     1.0   \n\n   PerfilInvestidor  RendaMensal  ValorPatrimonio  ...  \\\n0                 2       1300.0           6000.0  ...   \n1                 2        500.0              NaN  ...   \n2                 2        500.0              NaN  ...   \n3                 2        500.0              NaN  ...   \n4                 2        500.0              NaN  ...   \n\n  ValorMinimoAplicacaoAdicional DataVencimento FamiliaCarteira  \\\n0                          30.0            NaN      Renda Fixa   \n1                          30.0            NaN      Renda Fixa   \n2                          30.0            NaN      Renda Fixa   \n3                          30.0            NaN      Renda Fixa   \n4                          30.0            NaN      Renda Fixa   \n\n  ValorInvestidoAtual ValorRendimento Rentabilidade12Meses RentabilidadeMes  \\\n0                30.0             NaN                  0.0       0.37005375   \n1               150.0             NaN                  0.0       0.05684974   \n2                50.0             NaN                  0.0       0.05684974   \n3                60.0             NaN                  0.0       0.13178136   \n4                40.0             NaN                  0.0       0.15076414   \n\n  RiscoAtivo     Status           ProdutoId  \n0        1.0  Efetivada  a0W6A000009GZdgUAG  \n1        1.0  Efetivada  a0W6A000009GZdgUAG  \n2        1.0  Efetivada  a0W6A000009GZdgUAG  \n3        1.0  Efetivada  a0W6A000009GZdgUAG  \n4        1.0  Efetivada  a0W6A000009GZdgUAG  \n\n[5 rows x 66 columns]",
      "text/html": "<div>\n<style scoped>\n    .dataframe tbody tr th:only-of-type {\n        vertical-align: middle;\n    }\n\n    .dataframe tbody tr th {\n        vertical-align: top;\n    }\n\n    .dataframe thead th {\n        text-align: right;\n    }\n</style>\n<table border=\"1\" class=\"dataframe\">\n  <thead>\n    <tr style=\"text-align: right;\">\n      <th></th>\n      <th>Unnamed: 0</th>\n      <th>Id</th>\n      <th>Idade</th>\n      <th>EstadoCivil</th>\n      <th>BillingCity</th>\n      <th>NivelConhecimentoAtual</th>\n      <th>ScoreNivelConhecimento</th>\n      <th>PerfilInvestidor</th>\n      <th>RendaMensal</th>\n      <th>ValorPatrimonio</th>\n      <th>...</th>\n      <th>ValorMinimoAplicacaoAdicional</th>\n      <th>DataVencimento</th>\n      <th>FamiliaCarteira</th>\n      <th>ValorInvestidoAtual</th>\n      <th>ValorRendimento</th>\n      <th>Rentabilidade12Meses</th>\n      <th>RentabilidadeMes</th>\n      <th>RiscoAtivo</th>\n      <th>Status</th>\n      <th>ProdutoId</th>\n    </tr>\n  </thead>\n  <tbody>\n    <tr>\n      <th>0</th>\n      <td>0</td>\n      <td>$2b$10$.DCvvJ9WSDpqVP2xXjeSPe9yBilu2JVQh2nFTHN...</td>\n      <td>30</td>\n      <td>M</td>\n      <td>Aracruz</td>\n      <td>1.0</td>\n      <td>1.0</td>\n      <td>2</td>\n      <td>1300.0</td>\n      <td>6000.0</td>\n      <td>...</td>\n      <td>30.0</td>\n      <td>NaN</td>\n      <td>Renda Fixa</td>\n      <td>30.0</td>\n      <td>NaN</td>\n      <td>0.0</td>\n      <td>0.37005375</td>\n      <td>1.0</td>\n      <td>Efetivada</td>\n      <td>a0W6A000009GZdgUAG</td>\n    </tr>\n    <tr>\n      <th>1</th>\n      <td>1</td>\n      <td>$2b$10$.DCvvJ9WSDpqVP2xXjeSPeR6I3TrUCl/MAePvQQ...</td>\n      <td>25</td>\n      <td>S</td>\n      <td>Teresina</td>\n      <td>1.0</td>\n      <td>1.0</td>\n      <td>2</td>\n      <td>500.0</td>\n      <td>NaN</td>\n      <td>...</td>\n      <td>30.0</td>\n      <td>NaN</td>\n      <td>Renda Fixa</td>\n      <td>150.0</td>\n      <td>NaN</td>\n      <td>0.0</td>\n      <td>0.05684974</td>\n      <td>1.0</td>\n      <td>Efetivada</td>\n      <td>a0W6A000009GZdgUAG</td>\n    </tr>\n    <tr>\n      <th>2</th>\n      <td>2</td>\n      <td>$2b$10$.DCvvJ9WSDpqVP2xXjeSPeR6I3TrUCl/MAePvQQ...</td>\n      <td>25</td>\n      <td>S</td>\n      <td>Teresina</td>\n      <td>1.0</td>\n      <td>1.0</td>\n      <td>2</td>\n      <td>500.0</td>\n      <td>NaN</td>\n      <td>...</td>\n      <td>30.0</td>\n      <td>NaN</td>\n      <td>Renda Fixa</td>\n      <td>50.0</td>\n      <td>NaN</td>\n      <td>0.0</td>\n      <td>0.05684974</td>\n      <td>1.0</td>\n      <td>Efetivada</td>\n      <td>a0W6A000009GZdgUAG</td>\n    </tr>\n    <tr>\n      <th>3</th>\n      <td>3</td>\n      <td>$2b$10$.DCvvJ9WSDpqVP2xXjeSPeR6I3TrUCl/MAePvQQ...</td>\n      <td>25</td>\n      <td>S</td>\n      <td>Teresina</td>\n      <td>1.0</td>\n      <td>1.0</td>\n      <td>2</td>\n      <td>500.0</td>\n      <td>NaN</td>\n      <td>...</td>\n      <td>30.0</td>\n      <td>NaN</td>\n      <td>Renda Fixa</td>\n      <td>60.0</td>\n      <td>NaN</td>\n      <td>0.0</td>\n      <td>0.13178136</td>\n      <td>1.0</td>\n      <td>Efetivada</td>\n      <td>a0W6A000009GZdgUAG</td>\n    </tr>\n    <tr>\n      <th>4</th>\n      <td>4</td>\n      <td>$2b$10$.DCvvJ9WSDpqVP2xXjeSPeR6I3TrUCl/MAePvQQ...</td>\n      <td>25</td>\n      <td>S</td>\n      <td>Teresina</td>\n      <td>1.0</td>\n      <td>1.0</td>\n      <td>2</td>\n      <td>500.0</td>\n      <td>NaN</td>\n      <td>...</td>\n      <td>30.0</td>\n      <td>NaN</td>\n      <td>Renda Fixa</td>\n      <td>40.0</td>\n      <td>NaN</td>\n      <td>0.0</td>\n      <td>0.15076414</td>\n      <td>1.0</td>\n      <td>Efetivada</td>\n      <td>a0W6A000009GZdgUAG</td>\n    </tr>\n  </tbody>\n</table>\n<p>5 rows × 66 columns</p>\n</div>"
     },
     "metadata": {},
     "output_type": "execute_result",
     "execution_count": 4
    }
   ],
   "source": [
    "dataset.head()"
   ],
   "metadata": {
    "collapsed": false,
    "pycharm": {
     "name": "#%%\n",
     "is_executing": false
    }
   }
  },
  {
   "cell_type": "code",
   "execution_count": 5,
   "outputs": [
    {
     "data": {
      "text/plain": "         Unnamed: 0         Idade  NivelConhecimentoAtual  \\\ncount  38102.000000  38102.000000            34956.000000   \nmean   19050.500000     37.230145                2.480804   \nstd    10999.244315     11.365521                1.522709   \nmin        0.000000     17.000000                1.000000   \n25%     9525.250000     29.000000                1.000000   \n50%    19050.500000     36.000000                2.000000   \n75%    28575.750000     43.000000                4.000000   \nmax    38101.000000     96.000000                5.000000   \n\n       ScoreNivelConhecimento  PerfilInvestidor   RendaMensal  \\\ncount            37577.000000      38102.000000  3.810200e+04   \nmean                 2.533678          2.779959  8.368189e+03   \nstd                  1.538015          1.121397  2.754596e+04   \nmin                  1.000000          0.000000  0.000000e+00   \n25%                  1.000000          2.000000  2.000000e+03   \n50%                  2.000000          3.000000  4.200000e+03   \n75%                  4.000000          4.000000  1.000000e+04   \nmax                  5.000000          5.000000  2.400000e+06   \n\n       ValorPatrimonio    ScoreRisco  ScoreObjetivos  ScoreSituacaoFinanceira  \\\ncount     2.565000e+04  37577.000000    37577.000000             37577.000000   \nmean      9.122847e+05      2.671874        3.141815                 2.124252   \nstd       1.498490e+07      1.109866        1.176798                 1.012600   \nmin       0.000000e+00      1.000000        1.000000                 1.000000   \n25%       4.000000e+04      2.000000        2.000000                 1.000000   \n50%       2.000000e+05      3.000000        3.000000                 2.000000   \n75%       7.000000e+05      3.000000        4.000000                 3.000000   \nmax       1.500000e+09      5.000000        5.000000                 5.000000   \n\n       TaxaCliente  TaxaPreCliente  ValorMinimoAplicaInicial  \\\ncount  5614.000000     5615.000000              22746.000000   \nmean     98.189526        0.413389                744.188094   \nstd      26.149983        1.776756               2344.743320   \nmin       0.000000        0.000000                  0.000000   \n25%      94.000000        0.000000                 30.000000   \n50%     101.000000        0.000000                 30.000000   \n75%     113.000000        0.000000                500.000000   \nmax     140.000000       12.000000              50000.000000   \n\n       ValorMinimoAplicacaoAdicional  ValorInvestidoAtual  ValorRendimento  \\\ncount                   30929.000000         36483.000000      5421.000000   \nmean                      360.480540          4046.749768       196.936554   \nstd                      1032.730307         17034.380766       748.580640   \nmin                         0.000000             0.000000         0.000000   \n25%                        30.000000            40.000000         7.490000   \n50%                        30.000000           300.000000        28.080000   \n75%                       100.000000          2000.000000       103.750000   \nmax                     30000.000000        800000.000000     16834.210000   \n\n       Rentabilidade12Meses    RiscoAtivo  \ncount          30861.000000  36476.000000  \nmean               9.666901      2.615309  \nstd               18.926591      1.532361  \nmin              -99.693346      0.000000  \n25%                0.000000      1.000000  \n50%                0.000000      2.000000  \n75%               11.122177      4.000000  \nmax              584.324863      5.000000  ",
      "text/html": "<div>\n<style scoped>\n    .dataframe tbody tr th:only-of-type {\n        vertical-align: middle;\n    }\n\n    .dataframe tbody tr th {\n        vertical-align: top;\n    }\n\n    .dataframe thead th {\n        text-align: right;\n    }\n</style>\n<table border=\"1\" class=\"dataframe\">\n  <thead>\n    <tr style=\"text-align: right;\">\n      <th></th>\n      <th>Unnamed: 0</th>\n      <th>Idade</th>\n      <th>NivelConhecimentoAtual</th>\n      <th>ScoreNivelConhecimento</th>\n      <th>PerfilInvestidor</th>\n      <th>RendaMensal</th>\n      <th>ValorPatrimonio</th>\n      <th>ScoreRisco</th>\n      <th>ScoreObjetivos</th>\n      <th>ScoreSituacaoFinanceira</th>\n      <th>TaxaCliente</th>\n      <th>TaxaPreCliente</th>\n      <th>ValorMinimoAplicaInicial</th>\n      <th>ValorMinimoAplicacaoAdicional</th>\n      <th>ValorInvestidoAtual</th>\n      <th>ValorRendimento</th>\n      <th>Rentabilidade12Meses</th>\n      <th>RiscoAtivo</th>\n    </tr>\n  </thead>\n  <tbody>\n    <tr>\n      <th>count</th>\n      <td>38102.000000</td>\n      <td>38102.000000</td>\n      <td>34956.000000</td>\n      <td>37577.000000</td>\n      <td>38102.000000</td>\n      <td>3.810200e+04</td>\n      <td>2.565000e+04</td>\n      <td>37577.000000</td>\n      <td>37577.000000</td>\n      <td>37577.000000</td>\n      <td>5614.000000</td>\n      <td>5615.000000</td>\n      <td>22746.000000</td>\n      <td>30929.000000</td>\n      <td>36483.000000</td>\n      <td>5421.000000</td>\n      <td>30861.000000</td>\n      <td>36476.000000</td>\n    </tr>\n    <tr>\n      <th>mean</th>\n      <td>19050.500000</td>\n      <td>37.230145</td>\n      <td>2.480804</td>\n      <td>2.533678</td>\n      <td>2.779959</td>\n      <td>8.368189e+03</td>\n      <td>9.122847e+05</td>\n      <td>2.671874</td>\n      <td>3.141815</td>\n      <td>2.124252</td>\n      <td>98.189526</td>\n      <td>0.413389</td>\n      <td>744.188094</td>\n      <td>360.480540</td>\n      <td>4046.749768</td>\n      <td>196.936554</td>\n      <td>9.666901</td>\n      <td>2.615309</td>\n    </tr>\n    <tr>\n      <th>std</th>\n      <td>10999.244315</td>\n      <td>11.365521</td>\n      <td>1.522709</td>\n      <td>1.538015</td>\n      <td>1.121397</td>\n      <td>2.754596e+04</td>\n      <td>1.498490e+07</td>\n      <td>1.109866</td>\n      <td>1.176798</td>\n      <td>1.012600</td>\n      <td>26.149983</td>\n      <td>1.776756</td>\n      <td>2344.743320</td>\n      <td>1032.730307</td>\n      <td>17034.380766</td>\n      <td>748.580640</td>\n      <td>18.926591</td>\n      <td>1.532361</td>\n    </tr>\n    <tr>\n      <th>min</th>\n      <td>0.000000</td>\n      <td>17.000000</td>\n      <td>1.000000</td>\n      <td>1.000000</td>\n      <td>0.000000</td>\n      <td>0.000000e+00</td>\n      <td>0.000000e+00</td>\n      <td>1.000000</td>\n      <td>1.000000</td>\n      <td>1.000000</td>\n      <td>0.000000</td>\n      <td>0.000000</td>\n      <td>0.000000</td>\n      <td>0.000000</td>\n      <td>0.000000</td>\n      <td>0.000000</td>\n      <td>-99.693346</td>\n      <td>0.000000</td>\n    </tr>\n    <tr>\n      <th>25%</th>\n      <td>9525.250000</td>\n      <td>29.000000</td>\n      <td>1.000000</td>\n      <td>1.000000</td>\n      <td>2.000000</td>\n      <td>2.000000e+03</td>\n      <td>4.000000e+04</td>\n      <td>2.000000</td>\n      <td>2.000000</td>\n      <td>1.000000</td>\n      <td>94.000000</td>\n      <td>0.000000</td>\n      <td>30.000000</td>\n      <td>30.000000</td>\n      <td>40.000000</td>\n      <td>7.490000</td>\n      <td>0.000000</td>\n      <td>1.000000</td>\n    </tr>\n    <tr>\n      <th>50%</th>\n      <td>19050.500000</td>\n      <td>36.000000</td>\n      <td>2.000000</td>\n      <td>2.000000</td>\n      <td>3.000000</td>\n      <td>4.200000e+03</td>\n      <td>2.000000e+05</td>\n      <td>3.000000</td>\n      <td>3.000000</td>\n      <td>2.000000</td>\n      <td>101.000000</td>\n      <td>0.000000</td>\n      <td>30.000000</td>\n      <td>30.000000</td>\n      <td>300.000000</td>\n      <td>28.080000</td>\n      <td>0.000000</td>\n      <td>2.000000</td>\n    </tr>\n    <tr>\n      <th>75%</th>\n      <td>28575.750000</td>\n      <td>43.000000</td>\n      <td>4.000000</td>\n      <td>4.000000</td>\n      <td>4.000000</td>\n      <td>1.000000e+04</td>\n      <td>7.000000e+05</td>\n      <td>3.000000</td>\n      <td>4.000000</td>\n      <td>3.000000</td>\n      <td>113.000000</td>\n      <td>0.000000</td>\n      <td>500.000000</td>\n      <td>100.000000</td>\n      <td>2000.000000</td>\n      <td>103.750000</td>\n      <td>11.122177</td>\n      <td>4.000000</td>\n    </tr>\n    <tr>\n      <th>max</th>\n      <td>38101.000000</td>\n      <td>96.000000</td>\n      <td>5.000000</td>\n      <td>5.000000</td>\n      <td>5.000000</td>\n      <td>2.400000e+06</td>\n      <td>1.500000e+09</td>\n      <td>5.000000</td>\n      <td>5.000000</td>\n      <td>5.000000</td>\n      <td>140.000000</td>\n      <td>12.000000</td>\n      <td>50000.000000</td>\n      <td>30000.000000</td>\n      <td>800000.000000</td>\n      <td>16834.210000</td>\n      <td>584.324863</td>\n      <td>5.000000</td>\n    </tr>\n  </tbody>\n</table>\n</div>"
     },
     "metadata": {},
     "output_type": "execute_result",
     "execution_count": 5
    }
   ],
   "source": [
    "dataset.describe()"
   ],
   "metadata": {
    "collapsed": false,
    "pycharm": {
     "name": "#%%\n",
     "is_executing": false
    }
   }
  }
 ],
 "metadata": {
  "kernelspec": {
   "display_name": "Python 3",
   "language": "python",
   "name": "python3"
  },
  "language_info": {
   "codemirror_mode": {
    "name": "ipython",
    "version": 2
   },
   "file_extension": ".py",
   "mimetype": "text/x-python",
   "name": "python",
   "nbconvert_exporter": "python",
   "pygments_lexer": "ipython2",
   "version": "2.7.6"
  },
  "pycharm": {
   "stem_cell": {
    "cell_type": "raw",
    "source": [
     "### Import packages\n"
    ],
    "metadata": {
     "collapsed": false
    }
   }
  }
 },
 "nbformat": 4,
 "nbformat_minor": 0
}